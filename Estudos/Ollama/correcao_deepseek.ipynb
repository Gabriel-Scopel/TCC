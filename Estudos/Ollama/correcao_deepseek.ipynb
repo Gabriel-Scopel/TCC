{
 "cells": [
  {
   "cell_type": "code",
   "execution_count": 1,
   "metadata": {},
   "outputs": [
    {
     "name": "stdout",
     "output_type": "stream",
     "text": [
      "Resultados salvos em 'resultados_avaliacao.json'.\n"
     ]
    }
   ],
   "source": [
    "import ollama\n",
    "import json\n",
    "\n",
    "# Carregar o arquivo JSON com as respostas dos alunos\n",
    "with open('graded_responses_ptbr.json', 'r', encoding='utf-8') as file:\n",
    "    data = json.load(file)\n",
    "\n",
    "# Função para enviar a resposta ao modelo DeepSeek e obter uma nota\n",
    "def obter_nota_resposta(resposta):\n",
    "    response = ollama.chat(model='deepseek-r1:1.5b', messages=[\n",
    "        {'role': 'user', 'content': f'Por favor, avalie a seguinte resposta em uma escala de 0 a 3: \"{resposta}\"'}\n",
    "    ])\n",
    "    # Acessa a resposta e retorna a nota\n",
    "    return response['message']['content']\n",
    "\n",
    "# Lista para armazenar os resultados com as respostas e as notas\n",
    "resultados = []\n",
    "\n",
    "# Para cada resposta dos alunos, submeter ao modelo e adicionar ao resultado\n",
    "for student_response in data[0]['responses_students']:\n",
    "    resposta = student_response['answer_question']\n",
    "    nota = obter_nota_resposta(resposta)\n",
    "    \n",
    "    # Armazenar o resultado em um dicionário\n",
    "    resultados.append({\n",
    "        'resposta_aluno': resposta,\n",
    "        'nota': nota\n",
    "    })\n",
    "\n",
    "# Salvar os resultados em um novo arquivo JSON\n",
    "with open('resultados_avaliacao.json', 'w', encoding='utf-8') as output_file:\n",
    "    json.dump(resultados, output_file, ensure_ascii=False, indent=4)\n",
    "\n",
    "print(\"Resultados salvos em 'resultados_avaliacao.json'.\")\n"
   ]
  }
 ],
 "metadata": {
  "kernelspec": {
   "display_name": "Python 3",
   "language": "python",
   "name": "python3"
  },
  "language_info": {
   "codemirror_mode": {
    "name": "ipython",
    "version": 3
   },
   "file_extension": ".py",
   "mimetype": "text/x-python",
   "name": "python",
   "nbconvert_exporter": "python",
   "pygments_lexer": "ipython3",
   "version": "3.11.0"
  }
 },
 "nbformat": 4,
 "nbformat_minor": 2
}
