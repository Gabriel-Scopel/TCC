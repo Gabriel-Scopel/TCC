{
 "cells": [
  {
   "cell_type": "code",
   "execution_count": 13,
   "id": "5f0e8031",
   "metadata": {},
   "outputs": [
    {
     "name": "stdout",
     "output_type": "stream",
     "text": [
      "RMSE: 1.7516\n",
      "Pearson Correlation Coefficient: 0.4594\n",
      "P-value for Pearson Correlation: 0.0000\n"
     ]
    }
   ],
   "source": [
    "import json\n",
    "import numpy as np\n",
    "from scipy.stats import pearsonr\n",
    "\n",
    "def calculate_metrics(file_path):\n",
    "    \"\"\"\n",
    "    Calculates RMSE and Pearson correlation between 'grade' and 'bert_grade'.\n",
    "\n",
    "    Args:\n",
    "        file_path (str): The path to the JSON file containing the data.\n",
    "\n",
    "    Returns:\n",
    "        tuple: A tuple containing:\n",
    "            - float: The RMSE value.\n",
    "            - float: The Pearson correlation coefficient.\n",
    "            - float: The p-value for the Pearson correlation.\n",
    "    \"\"\"\n",
    "    grades = []\n",
    "    bert_grades = []\n",
    "\n",
    "    with open(file_path, 'r', encoding='utf-8') as f:\n",
    "        data = json.load(f)\n",
    "\n",
    "    # The data is a list of dictionaries, where each dictionary represents a question.\n",
    "    # Inside each question dictionary, there's a key 'responses_students' which is a list of student responses.\n",
    "    # Each student response dictionary contains 'grade' and 'bert_grade'.\n",
    "    for question_data in data:\n",
    "        if 'responses_students' in question_data: # Corrected key name\n",
    "            for response in question_data['responses_students']:\n",
    "                if 'grade' in response and 'bert_grade' in response:\n",
    "                    grades.append(response['grade'])\n",
    "                    bert_grades.append(response['bert_grade'])\n",
    "\n",
    "    if not grades or not bert_grades:\n",
    "        raise ValueError(\"No 'grade' or 'bert_grade' data found in the file with the expected structure.\")\n",
    "\n",
    "    # Calculate RMSE\n",
    "    rmse = np.sqrt(np.mean((np.array(grades) - np.array(bert_grades))**2))\n",
    "\n",
    "    # Calculate Pearson Correlation\n",
    "    # pearsonr returns (correlation_coefficient, p-value)\n",
    "    correlation_coefficient, p_value = pearsonr(grades, bert_grades)\n",
    "\n",
    "    return rmse, correlation_coefficient, p_value\n",
    "\n",
    "if __name__ == \"__main__\":\n",
    "    json_file_path = 'correcao_bertEN.json'\n",
    "\n",
    "    try:\n",
    "        rmse_value, pearson_corr, p_value = calculate_metrics(json_file_path)\n",
    "        print(f\"RMSE: {rmse_value:.4f}\")\n",
    "        print(f\"Pearson Correlation Coefficient: {pearson_corr:.4f}\")\n",
    "        print(f\"P-value for Pearson Correlation: {p_value:.4f}\")\n",
    "    except FileNotFoundError:\n",
    "        print(f\"Error: The file '{json_file_path}' was not found.\")\n",
    "    except ValueError as e:\n",
    "        print(f\"Error: {e}\")\n",
    "    except Exception as e:\n",
    "        print(f\"An unexpected error occurred: {e}\")"
   ]
  }
 ],
 "metadata": {
  "kernelspec": {
   "display_name": "Python 3",
   "language": "python",
   "name": "python3"
  },
  "language_info": {
   "codemirror_mode": {
    "name": "ipython",
    "version": 3
   },
   "file_extension": ".py",
   "mimetype": "text/x-python",
   "name": "python",
   "nbconvert_exporter": "python",
   "pygments_lexer": "ipython3",
   "version": "3.10.0"
  }
 },
 "nbformat": 4,
 "nbformat_minor": 5
}
